{
 "cells": [
  {
   "cell_type": "markdown",
   "metadata": {},
   "source": [
    "# Regression Notebook"
   ]
  },
  {
   "cell_type": "markdown",
   "metadata": {},
   "source": [
    "## Imports"
   ]
  },
  {
   "cell_type": "code",
   "execution_count": 2,
   "metadata": {},
   "outputs": [],
   "source": [
    "%matplotlib inline\n",
    "import warnings\n",
    "warnings.filterwarnings(action='ignore')\n",
    "import numpy as np\n",
    "import pandas as pd\n",
    "import seaborn as sns\n",
    "import statsmodels.api as sm\n",
    "import statsmodels.formula.api as smf\n",
    "from sklearn.model_selection import train_test_split\n",
    "from sklearn.preprocessing import StandardScaler\n",
    "from scipy import stats\n",
    "from sklearn.preprocessing import LabelBinarizer\n",
    "from sklearn.preprocessing import OneHotEncoder\n",
    "from sklearn.linear_model import LinearRegression\n",
    "from sklearn.metrics import r2_score, mean_squared_error\n",
    "import matplotlib.pyplot as plt\n",
    "from statsmodels.graphics.gofplots import qqplot\n",
    "import seaborn as sns\n",
    "from itertools import combinations\n",
    "from sklearn.preprocessing import PolynomialFeatures\n",
    "from sklearn.linear_model import Ridge\n",
    "from sklearn.linear_model import Lasso\n",
    "from sklearn.linear_model import ElasticNet\n",
    "from sklearn.feature_selection import RFE\n",
    "from numpy.polynomial.polynomial import polyfit\n",
    "from pandas import Series\n",
    "import matplotlib.pylab as plt\n",
    "from statsmodels.tsa.seasonal import seasonal_decompose\n",
    "from statsmodels.tsa.stattools import adfuller"
   ]
  },
  {
   "cell_type": "code",
   "execution_count": 1,
   "metadata": {},
   "outputs": [
    {
     "name": "stdout",
     "output_type": "stream",
     "text": [
      "/Users/flatironschool/Documents/NBA Salaries Reg\r\n"
     ]
    }
   ],
   "source": [
    "!pwd"
   ]
  },
  {
   "cell_type": "markdown",
   "metadata": {},
   "source": [
    "## Load CSV Data"
   ]
  },
  {
   "cell_type": "code",
   "execution_count": 326,
   "metadata": {},
   "outputs": [],
   "source": [
    "play_facts = pd.read_csv('/Users/flatironschool/Documents/NBA Salaries Reg/Players.csv')\n",
    "play_sal = pd.read_csv('/Users/flatironschool/Documents/NBA Salaries Reg/NBA_season1718_salary.csv')\n",
    "play_stats = pd.read_csv('/Users/flatironschool/Documents/NBA Salaries Reg/Seasons_Stats.csv')"
   ]
  },
  {
   "cell_type": "markdown",
   "metadata": {},
   "source": [
    "## Custom columns and data cleaning"
   ]
  },
  {
   "cell_type": "code",
   "execution_count": 462,
   "metadata": {},
   "outputs": [],
   "source": [
    "#play_facts.drop(['birth_city','birth_state'],axis=1,inplace=True)\n",
    "#play_facts.head(2)\n",
    "\n",
    "### MAYBE FOR LATER"
   ]
  },
  {
   "cell_type": "code",
   "execution_count": 329,
   "metadata": {},
   "outputs": [],
   "source": [
    "#play_sal.rename(columns={'season17_18':'salary'},inplace=True)\n",
    "salary_dict = {}\n",
    "for i in range(len(play_sal)):\n",
    "    salary_dict[play_sal.Player[i]]=play_sal.salary[i]"
   ]
  },
  {
   "cell_type": "code",
   "execution_count": 330,
   "metadata": {},
   "outputs": [],
   "source": [
    "#play_stats_17=play_stats[play_stats.Year==2017]\n",
    "#play_stats_17['Start%']=play_stats_17['GS']/play_stats_17['G']\n",
    "#play_stats_17['ppg']=play_stats_17['PTS']/play_stats_17['G']\n",
    "#play_stats_17['spg']=play_stats_17['STL']/play_stats_17['G']\n",
    "#play_stats_17['apg']=play_stats_17['AST']/play_stats_17['G']\n",
    "#play_stats_17['rpg']=play_stats_17['TRB']/play_stats_17['G']\n",
    "#play_stats_17['bpg']=play_stats_17['BLK']/play_stats_17['G']\n",
    "#play_stats_17['fpg']=play_stats_17['PF']/play_stats_17['G']\n",
    "#play_stats_17['tpg']=play_stats_17['TOV']/play_stats_17['G']\n",
    "#play_stats_17['mpg']=play_stats_17['MP']/play_stats_17['G']"
   ]
  },
  {
   "cell_type": "code",
   "execution_count": 331,
   "metadata": {},
   "outputs": [],
   "source": [
    "#cancel_list= ['PTS','PF','BLK','TOV','BLK','STL','AST','TRB','DRB','ORB','FTA','FT','2PA','2P','3PA','3P','FGA','FG','OBPM','DBPM','blank2','WS','DWS','OWS','TOV%','BLK%','STL%','AST%','DRB%','ORB%','FTr','3PAr','Tm','GS']"
   ]
  },
  {
   "cell_type": "code",
   "execution_count": 332,
   "metadata": {},
   "outputs": [],
   "source": [
    "#play_stats_17.drop(cancel_list,axis=1,inplace=True)\n",
    "#play_stats_17['salary']=0"
   ]
  },
  {
   "cell_type": "code",
   "execution_count": 333,
   "metadata": {
    "scrolled": false
   },
   "outputs": [],
   "source": [
    "#play_stats_172 = play_stats_17.set_index('Player')"
   ]
  },
  {
   "cell_type": "code",
   "execution_count": 335,
   "metadata": {
    "scrolled": true
   },
   "outputs": [],
   "source": [
    "#play_stats_173 = play_stats_172[play_stats_172.index.value_counts()<2]"
   ]
  },
  {
   "cell_type": "code",
   "execution_count": 336,
   "metadata": {
    "scrolled": false
   },
   "outputs": [
    {
     "name": "stdout",
     "output_type": "stream",
     "text": [
      "(433, 29)\n",
      "535\n"
     ]
    }
   ],
   "source": [
    "print(play_stats_173.shape)\n",
    "print(len(salary_dict))"
   ]
  },
  {
   "cell_type": "code",
   "execution_count": 337,
   "metadata": {
    "scrolled": true
   },
   "outputs": [
    {
     "data": {
      "text/html": [
       "<div>\n",
       "<style scoped>\n",
       "    .dataframe tbody tr th:only-of-type {\n",
       "        vertical-align: middle;\n",
       "    }\n",
       "\n",
       "    .dataframe tbody tr th {\n",
       "        vertical-align: top;\n",
       "    }\n",
       "\n",
       "    .dataframe thead th {\n",
       "        text-align: right;\n",
       "    }\n",
       "</style>\n",
       "<table border=\"1\" class=\"dataframe\">\n",
       "  <thead>\n",
       "    <tr style=\"text-align: right;\">\n",
       "      <th></th>\n",
       "      <th>Player</th>\n",
       "      <th>Unnamed: 0</th>\n",
       "      <th>Year</th>\n",
       "      <th>Pos</th>\n",
       "      <th>Age</th>\n",
       "      <th>G</th>\n",
       "      <th>MP</th>\n",
       "      <th>PER</th>\n",
       "      <th>TS%</th>\n",
       "      <th>TRB%</th>\n",
       "      <th>...</th>\n",
       "      <th>Start%</th>\n",
       "      <th>ppg</th>\n",
       "      <th>spg</th>\n",
       "      <th>apg</th>\n",
       "      <th>rpg</th>\n",
       "      <th>bpg</th>\n",
       "      <th>fpg</th>\n",
       "      <th>tpg</th>\n",
       "      <th>mpg</th>\n",
       "      <th>salary</th>\n",
       "    </tr>\n",
       "  </thead>\n",
       "  <tbody>\n",
       "    <tr>\n",
       "      <td>0</td>\n",
       "      <td>Alex Abrines</td>\n",
       "      <td>24096</td>\n",
       "      <td>2017.0</td>\n",
       "      <td>SG</td>\n",
       "      <td>23.0</td>\n",
       "      <td>68.0</td>\n",
       "      <td>1055.0</td>\n",
       "      <td>10.1</td>\n",
       "      <td>0.560</td>\n",
       "      <td>4.5</td>\n",
       "      <td>...</td>\n",
       "      <td>0.088235</td>\n",
       "      <td>5.970588</td>\n",
       "      <td>0.544118</td>\n",
       "      <td>0.588235</td>\n",
       "      <td>1.264706</td>\n",
       "      <td>0.117647</td>\n",
       "      <td>1.676471</td>\n",
       "      <td>0.485294</td>\n",
       "      <td>15.514706</td>\n",
       "      <td>0</td>\n",
       "    </tr>\n",
       "    <tr>\n",
       "      <td>1</td>\n",
       "      <td>Steven Adams</td>\n",
       "      <td>24100</td>\n",
       "      <td>2017.0</td>\n",
       "      <td>C</td>\n",
       "      <td>23.0</td>\n",
       "      <td>80.0</td>\n",
       "      <td>2389.0</td>\n",
       "      <td>16.5</td>\n",
       "      <td>0.589</td>\n",
       "      <td>14.2</td>\n",
       "      <td>...</td>\n",
       "      <td>1.000000</td>\n",
       "      <td>11.312500</td>\n",
       "      <td>1.100000</td>\n",
       "      <td>1.075000</td>\n",
       "      <td>7.687500</td>\n",
       "      <td>0.975000</td>\n",
       "      <td>2.437500</td>\n",
       "      <td>1.825000</td>\n",
       "      <td>29.862500</td>\n",
       "      <td>0</td>\n",
       "    </tr>\n",
       "    <tr>\n",
       "      <td>2</td>\n",
       "      <td>Arron Afflalo</td>\n",
       "      <td>24101</td>\n",
       "      <td>2017.0</td>\n",
       "      <td>SG</td>\n",
       "      <td>31.0</td>\n",
       "      <td>61.0</td>\n",
       "      <td>1580.0</td>\n",
       "      <td>9.0</td>\n",
       "      <td>0.559</td>\n",
       "      <td>4.6</td>\n",
       "      <td>...</td>\n",
       "      <td>0.737705</td>\n",
       "      <td>8.442623</td>\n",
       "      <td>0.344262</td>\n",
       "      <td>1.278689</td>\n",
       "      <td>2.049180</td>\n",
       "      <td>0.114754</td>\n",
       "      <td>1.704918</td>\n",
       "      <td>0.688525</td>\n",
       "      <td>25.901639</td>\n",
       "      <td>0</td>\n",
       "    </tr>\n",
       "    <tr>\n",
       "      <td>3</td>\n",
       "      <td>Alexis Ajinca</td>\n",
       "      <td>24102</td>\n",
       "      <td>2017.0</td>\n",
       "      <td>C</td>\n",
       "      <td>28.0</td>\n",
       "      <td>39.0</td>\n",
       "      <td>584.0</td>\n",
       "      <td>12.9</td>\n",
       "      <td>0.529</td>\n",
       "      <td>16.0</td>\n",
       "      <td>...</td>\n",
       "      <td>0.384615</td>\n",
       "      <td>5.307692</td>\n",
       "      <td>0.512821</td>\n",
       "      <td>0.307692</td>\n",
       "      <td>4.538462</td>\n",
       "      <td>0.564103</td>\n",
       "      <td>1.974359</td>\n",
       "      <td>0.794872</td>\n",
       "      <td>14.974359</td>\n",
       "      <td>0</td>\n",
       "    </tr>\n",
       "    <tr>\n",
       "      <td>4</td>\n",
       "      <td>Cole Aldrich</td>\n",
       "      <td>24103</td>\n",
       "      <td>2017.0</td>\n",
       "      <td>C</td>\n",
       "      <td>28.0</td>\n",
       "      <td>62.0</td>\n",
       "      <td>531.0</td>\n",
       "      <td>12.7</td>\n",
       "      <td>0.549</td>\n",
       "      <td>17.4</td>\n",
       "      <td>...</td>\n",
       "      <td>0.000000</td>\n",
       "      <td>1.693548</td>\n",
       "      <td>0.403226</td>\n",
       "      <td>0.403226</td>\n",
       "      <td>2.548387</td>\n",
       "      <td>0.370968</td>\n",
       "      <td>1.370968</td>\n",
       "      <td>0.274194</td>\n",
       "      <td>8.564516</td>\n",
       "      <td>0</td>\n",
       "    </tr>\n",
       "  </tbody>\n",
       "</table>\n",
       "<p>5 rows × 30 columns</p>\n",
       "</div>"
      ],
      "text/plain": [
       "          Player  Unnamed: 0    Year Pos   Age     G      MP   PER    TS%  \\\n",
       "0   Alex Abrines       24096  2017.0  SG  23.0  68.0  1055.0  10.1  0.560   \n",
       "1   Steven Adams       24100  2017.0   C  23.0  80.0  2389.0  16.5  0.589   \n",
       "2  Arron Afflalo       24101  2017.0  SG  31.0  61.0  1580.0   9.0  0.559   \n",
       "3  Alexis Ajinca       24102  2017.0   C  28.0  39.0   584.0  12.9  0.529   \n",
       "4   Cole Aldrich       24103  2017.0   C  28.0  62.0   531.0  12.7  0.549   \n",
       "\n",
       "   TRB%  ...    Start%        ppg       spg       apg       rpg       bpg  \\\n",
       "0   4.5  ...  0.088235   5.970588  0.544118  0.588235  1.264706  0.117647   \n",
       "1  14.2  ...  1.000000  11.312500  1.100000  1.075000  7.687500  0.975000   \n",
       "2   4.6  ...  0.737705   8.442623  0.344262  1.278689  2.049180  0.114754   \n",
       "3  16.0  ...  0.384615   5.307692  0.512821  0.307692  4.538462  0.564103   \n",
       "4  17.4  ...  0.000000   1.693548  0.403226  0.403226  2.548387  0.370968   \n",
       "\n",
       "        fpg       tpg        mpg  salary  \n",
       "0  1.676471  0.485294  15.514706       0  \n",
       "1  2.437500  1.825000  29.862500       0  \n",
       "2  1.704918  0.688525  25.901639       0  \n",
       "3  1.974359  0.794872  14.974359       0  \n",
       "4  1.370968  0.274194   8.564516       0  \n",
       "\n",
       "[5 rows x 30 columns]"
      ]
     },
     "execution_count": 337,
     "metadata": {},
     "output_type": "execute_result"
    }
   ],
   "source": [
    "play_stats_173.reset_index(inplace=True)\n",
    "play_stats_173.head()"
   ]
  },
  {
   "cell_type": "code",
   "execution_count": 338,
   "metadata": {},
   "outputs": [],
   "source": [
    "def add_salary(player):\n",
    "    try:\n",
    "        s = salary_dict[player]\n",
    "        return s\n",
    "    except:\n",
    "        s = 0\n",
    "        return s"
   ]
  },
  {
   "cell_type": "code",
   "execution_count": 340,
   "metadata": {},
   "outputs": [],
   "source": [
    "#play_stats_173.salary = play_stats_173.Player.map(add_salary)"
   ]
  },
  {
   "cell_type": "code",
   "execution_count": 341,
   "metadata": {},
   "outputs": [],
   "source": [
    "### try - except should be tied to a specific error"
   ]
  },
  {
   "cell_type": "markdown",
   "metadata": {},
   "source": [
    "## Remove target from feature DataFrame"
   ]
  },
  {
   "cell_type": "code",
   "execution_count": 379,
   "metadata": {
    "scrolled": true
   },
   "outputs": [],
   "source": [
    "feature_list = list(play_stats_173.columns[0:29])"
   ]
  },
  {
   "cell_type": "code",
   "execution_count": 380,
   "metadata": {},
   "outputs": [],
   "source": [
    "df_features = play_stats_173.iloc[:,0:29]\n",
    "df_target = pd.DataFrame(play_stats_173['salary'])"
   ]
  },
  {
   "cell_type": "code",
   "execution_count": 381,
   "metadata": {},
   "outputs": [],
   "source": [
    "### USING NBA INFO TO FILL NA\n",
    "\n",
    "# 3 - 0.362\n",
    "# FT - 0.767\n",
    "# 2 - 0.53\n",
    "# eFG - 0.521\n",
    "# FG - 0.46\n",
    "\n",
    "df_features['3P%'].fillna(0.362,inplace=True)\n",
    "df_features['FT%'].fillna(0.767,inplace=True)\n",
    "df_features['2P%'].fillna(0.581,inplace=True)\n",
    "df_features['eFG%'].fillna(0.521,inplace=True)\n",
    "df_features['FG%'].fillna(0.46,inplace=True)\n",
    "df_features['TS%'].fillna(0.54,inplace=True)"
   ]
  },
  {
   "cell_type": "code",
   "execution_count": 382,
   "metadata": {
    "scrolled": true
   },
   "outputs": [],
   "source": [
    "#df_features.drop(['blanl','Year','Unnamed: 0'],axis=1,inplace=True)\n",
    "#df_features.set_index('Player',inplace=True)"
   ]
  },
  {
   "cell_type": "code",
   "execution_count": 383,
   "metadata": {},
   "outputs": [],
   "source": [
    "df_features.drop('Pos',axis=1,inplace=True)"
   ]
  },
  {
   "cell_type": "code",
   "execution_count": 384,
   "metadata": {},
   "outputs": [],
   "source": [
    "#df_features.dropna(axis=1,inplace=True)\n",
    "#df_target.dropna(axis=1,inplace=True)"
   ]
  },
  {
   "cell_type": "code",
   "execution_count": 385,
   "metadata": {
    "scrolled": true
   },
   "outputs": [
    {
     "name": "stdout",
     "output_type": "stream",
     "text": [
      "True\n"
     ]
    }
   ],
   "source": [
    "print(df_features.shape[0]==df_target.shape[0])"
   ]
  },
  {
   "cell_type": "markdown",
   "metadata": {},
   "source": [
    "## Check messy model"
   ]
  },
  {
   "cell_type": "code",
   "execution_count": 386,
   "metadata": {
    "scrolled": true
   },
   "outputs": [
    {
     "data": {
      "text/plain": [
       "LinearRegression(copy_X=True, fit_intercept=True, n_jobs=None, normalize=False)"
      ]
     },
     "execution_count": 386,
     "metadata": {},
     "output_type": "execute_result"
    }
   ],
   "source": [
    "from sklearn.linear_model import LinearRegression\n",
    "linreg = LinearRegression()\n",
    "linreg.fit(df_features, df_target)"
   ]
  },
  {
   "cell_type": "code",
   "execution_count": 387,
   "metadata": {},
   "outputs": [],
   "source": [
    "yhat = linreg.predict(df_features)\n",
    "SS_Residual = np.sum((df_target-yhat)**2)\n",
    "SS_Total = np.sum((df_target-np.mean(df_target))**2)\n",
    "r_squared = 1 - (float(SS_Residual))/SS_Total\n",
    "adjusted_r_squared = 1 - (1-r_squared)*(len(df_target)-1)/(len(df_target)-df_features.shape[1]-1)"
   ]
  },
  {
   "cell_type": "code",
   "execution_count": 388,
   "metadata": {
    "scrolled": false
   },
   "outputs": [
    {
     "data": {
      "text/plain": [
       "salary    0.64966\n",
       "dtype: float64"
      ]
     },
     "execution_count": 388,
     "metadata": {},
     "output_type": "execute_result"
    }
   ],
   "source": [
    "r_squared"
   ]
  },
  {
   "cell_type": "code",
   "execution_count": 390,
   "metadata": {},
   "outputs": [],
   "source": [
    "#### WHY DOES THIS NOT WORK?\n",
    "#mod = sm.OLS(df_target,df_features).fit()\n",
    "#mod.summary()"
   ]
  },
  {
   "cell_type": "markdown",
   "metadata": {},
   "source": [
    "## Feature engineering (remove correlation too)"
   ]
  },
  {
   "cell_type": "code",
   "execution_count": 391,
   "metadata": {},
   "outputs": [],
   "source": [
    "df_pos = pd.get_dummies(play_stats_173.Pos)"
   ]
  },
  {
   "cell_type": "code",
   "execution_count": 392,
   "metadata": {},
   "outputs": [],
   "source": [
    "df_pos.drop('C',axis=1,inplace=True)"
   ]
  },
  {
   "cell_type": "code",
   "execution_count": 393,
   "metadata": {},
   "outputs": [
    {
     "data": {
      "text/html": [
       "<div>\n",
       "<style scoped>\n",
       "    .dataframe tbody tr th:only-of-type {\n",
       "        vertical-align: middle;\n",
       "    }\n",
       "\n",
       "    .dataframe tbody tr th {\n",
       "        vertical-align: top;\n",
       "    }\n",
       "\n",
       "    .dataframe thead th {\n",
       "        text-align: right;\n",
       "    }\n",
       "</style>\n",
       "<table border=\"1\" class=\"dataframe\">\n",
       "  <thead>\n",
       "    <tr style=\"text-align: right;\">\n",
       "      <th></th>\n",
       "      <th>PF</th>\n",
       "      <th>PG</th>\n",
       "      <th>SF</th>\n",
       "      <th>SG</th>\n",
       "    </tr>\n",
       "  </thead>\n",
       "  <tbody>\n",
       "    <tr>\n",
       "      <td>0</td>\n",
       "      <td>0</td>\n",
       "      <td>0</td>\n",
       "      <td>0</td>\n",
       "      <td>1</td>\n",
       "    </tr>\n",
       "    <tr>\n",
       "      <td>1</td>\n",
       "      <td>0</td>\n",
       "      <td>0</td>\n",
       "      <td>0</td>\n",
       "      <td>0</td>\n",
       "    </tr>\n",
       "  </tbody>\n",
       "</table>\n",
       "</div>"
      ],
      "text/plain": [
       "   PF  PG  SF  SG\n",
       "0   0   0   0   1\n",
       "1   0   0   0   0"
      ]
     },
     "execution_count": 393,
     "metadata": {},
     "output_type": "execute_result"
    }
   ],
   "source": [
    "df_pos.head(2)"
   ]
  },
  {
   "cell_type": "code",
   "execution_count": 396,
   "metadata": {
    "scrolled": false
   },
   "outputs": [
    {
     "data": {
      "text/html": [
       "<div>\n",
       "<style scoped>\n",
       "    .dataframe tbody tr th:only-of-type {\n",
       "        vertical-align: middle;\n",
       "    }\n",
       "\n",
       "    .dataframe tbody tr th {\n",
       "        vertical-align: top;\n",
       "    }\n",
       "\n",
       "    .dataframe thead th {\n",
       "        text-align: right;\n",
       "    }\n",
       "</style>\n",
       "<table border=\"1\" class=\"dataframe\">\n",
       "  <thead>\n",
       "    <tr style=\"text-align: right;\">\n",
       "      <th></th>\n",
       "      <th>Age</th>\n",
       "      <th>G</th>\n",
       "      <th>MP</th>\n",
       "      <th>PER</th>\n",
       "      <th>TS%</th>\n",
       "      <th>TRB%</th>\n",
       "      <th>USG%</th>\n",
       "      <th>WS/48</th>\n",
       "      <th>BPM</th>\n",
       "      <th>VORP</th>\n",
       "      <th>...</th>\n",
       "      <th>FT%</th>\n",
       "      <th>Start%</th>\n",
       "      <th>ppg</th>\n",
       "      <th>spg</th>\n",
       "      <th>apg</th>\n",
       "      <th>rpg</th>\n",
       "      <th>bpg</th>\n",
       "      <th>fpg</th>\n",
       "      <th>tpg</th>\n",
       "      <th>mpg</th>\n",
       "    </tr>\n",
       "    <tr>\n",
       "      <th>Player</th>\n",
       "      <th></th>\n",
       "      <th></th>\n",
       "      <th></th>\n",
       "      <th></th>\n",
       "      <th></th>\n",
       "      <th></th>\n",
       "      <th></th>\n",
       "      <th></th>\n",
       "      <th></th>\n",
       "      <th></th>\n",
       "      <th></th>\n",
       "      <th></th>\n",
       "      <th></th>\n",
       "      <th></th>\n",
       "      <th></th>\n",
       "      <th></th>\n",
       "      <th></th>\n",
       "      <th></th>\n",
       "      <th></th>\n",
       "      <th></th>\n",
       "      <th></th>\n",
       "    </tr>\n",
       "  </thead>\n",
       "  <tbody>\n",
       "    <tr>\n",
       "      <td>Alex Abrines</td>\n",
       "      <td>23.0</td>\n",
       "      <td>68.0</td>\n",
       "      <td>1055.0</td>\n",
       "      <td>10.1</td>\n",
       "      <td>0.560</td>\n",
       "      <td>4.5</td>\n",
       "      <td>15.9</td>\n",
       "      <td>0.095</td>\n",
       "      <td>-2.5</td>\n",
       "      <td>-0.1</td>\n",
       "      <td>...</td>\n",
       "      <td>0.898</td>\n",
       "      <td>0.088235</td>\n",
       "      <td>5.970588</td>\n",
       "      <td>0.544118</td>\n",
       "      <td>0.588235</td>\n",
       "      <td>1.264706</td>\n",
       "      <td>0.117647</td>\n",
       "      <td>1.676471</td>\n",
       "      <td>0.485294</td>\n",
       "      <td>15.514706</td>\n",
       "    </tr>\n",
       "    <tr>\n",
       "      <td>Steven Adams</td>\n",
       "      <td>23.0</td>\n",
       "      <td>80.0</td>\n",
       "      <td>2389.0</td>\n",
       "      <td>16.5</td>\n",
       "      <td>0.589</td>\n",
       "      <td>14.2</td>\n",
       "      <td>16.2</td>\n",
       "      <td>0.130</td>\n",
       "      <td>0.5</td>\n",
       "      <td>1.5</td>\n",
       "      <td>...</td>\n",
       "      <td>0.611</td>\n",
       "      <td>1.000000</td>\n",
       "      <td>11.312500</td>\n",
       "      <td>1.100000</td>\n",
       "      <td>1.075000</td>\n",
       "      <td>7.687500</td>\n",
       "      <td>0.975000</td>\n",
       "      <td>2.437500</td>\n",
       "      <td>1.825000</td>\n",
       "      <td>29.862500</td>\n",
       "    </tr>\n",
       "  </tbody>\n",
       "</table>\n",
       "<p>2 rows × 24 columns</p>\n",
       "</div>"
      ],
      "text/plain": [
       "               Age     G      MP   PER    TS%  TRB%  USG%  WS/48  BPM  VORP  \\\n",
       "Player                                                                        \n",
       "Alex Abrines  23.0  68.0  1055.0  10.1  0.560   4.5  15.9  0.095 -2.5  -0.1   \n",
       "Steven Adams  23.0  80.0  2389.0  16.5  0.589  14.2  16.2  0.130  0.5   1.5   \n",
       "\n",
       "              ...    FT%    Start%        ppg       spg       apg       rpg  \\\n",
       "Player        ...                                                             \n",
       "Alex Abrines  ...  0.898  0.088235   5.970588  0.544118  0.588235  1.264706   \n",
       "Steven Adams  ...  0.611  1.000000  11.312500  1.100000  1.075000  7.687500   \n",
       "\n",
       "                   bpg       fpg       tpg        mpg  \n",
       "Player                                                 \n",
       "Alex Abrines  0.117647  1.676471  0.485294  15.514706  \n",
       "Steven Adams  0.975000  2.437500  1.825000  29.862500  \n",
       "\n",
       "[2 rows x 24 columns]"
      ]
     },
     "execution_count": 396,
     "metadata": {},
     "output_type": "execute_result"
    }
   ],
   "source": [
    "# no categorical features here\n",
    "df_features.head(2)"
   ]
  },
  {
   "cell_type": "code",
   "execution_count": 425,
   "metadata": {
    "scrolled": false
   },
   "outputs": [
    {
     "data": {
      "text/plain": [
       "Index(['Age', 'G', 'MP', 'PER', 'TS%', 'TRB%', 'USG%', 'WS/48', 'BPM', 'VORP',\n",
       "       'FG%', '3P%', '2P%', 'eFG%', 'FT%', 'Start%', 'ppg', 'spg', 'apg',\n",
       "       'rpg', 'bpg', 'fpg', 'tpg', 'mpg'],\n",
       "      dtype='object')"
      ]
     },
     "execution_count": 425,
     "metadata": {},
     "output_type": "execute_result"
    }
   ],
   "source": [
    "#normality check and standard scale\n",
    "df_features.columns"
   ]
  },
  {
   "cell_type": "code",
   "execution_count": 426,
   "metadata": {},
   "outputs": [
    {
     "name": "stdout",
     "output_type": "stream",
     "text": [
      "not normal: age, g, mp, trb, vorp, 3p%, start%, ppg, apg, spg, rpg, bpg, tpg\n"
     ]
    }
   ],
   "source": [
    "print('not normal: age, g, mp, trb, vorp, 3p%, start%, ppg, apg, spg, rpg, bpg, tpg')"
   ]
  },
  {
   "cell_type": "code",
   "execution_count": 427,
   "metadata": {},
   "outputs": [],
   "source": [
    "# process: 1. standard scale  2. box-cox  3. combine categorical"
   ]
  },
  {
   "cell_type": "code",
   "execution_count": 430,
   "metadata": {},
   "outputs": [
    {
     "data": {
      "text/html": [
       "<div>\n",
       "<style scoped>\n",
       "    .dataframe tbody tr th:only-of-type {\n",
       "        vertical-align: middle;\n",
       "    }\n",
       "\n",
       "    .dataframe tbody tr th {\n",
       "        vertical-align: top;\n",
       "    }\n",
       "\n",
       "    .dataframe thead th {\n",
       "        text-align: right;\n",
       "    }\n",
       "</style>\n",
       "<table border=\"1\" class=\"dataframe\">\n",
       "  <thead>\n",
       "    <tr style=\"text-align: right;\">\n",
       "      <th></th>\n",
       "      <th>Age</th>\n",
       "      <th>G</th>\n",
       "      <th>MP</th>\n",
       "      <th>PER</th>\n",
       "      <th>TS%</th>\n",
       "      <th>TRB%</th>\n",
       "      <th>USG%</th>\n",
       "      <th>WS/48</th>\n",
       "      <th>BPM</th>\n",
       "      <th>VORP</th>\n",
       "      <th>...</th>\n",
       "      <th>FT%</th>\n",
       "      <th>Start%</th>\n",
       "      <th>ppg</th>\n",
       "      <th>spg</th>\n",
       "      <th>apg</th>\n",
       "      <th>rpg</th>\n",
       "      <th>bpg</th>\n",
       "      <th>fpg</th>\n",
       "      <th>tpg</th>\n",
       "      <th>mpg</th>\n",
       "    </tr>\n",
       "  </thead>\n",
       "  <tbody>\n",
       "    <tr>\n",
       "      <td>0</td>\n",
       "      <td>-0.776774</td>\n",
       "      <td>0.557056</td>\n",
       "      <td>-0.224825</td>\n",
       "      <td>-0.504898</td>\n",
       "      <td>0.366361</td>\n",
       "      <td>-1.087612</td>\n",
       "      <td>-0.488534</td>\n",
       "      <td>0.195658</td>\n",
       "      <td>-0.193764</td>\n",
       "      <td>-0.511420</td>\n",
       "      <td>...</td>\n",
       "      <td>1.149238</td>\n",
       "      <td>-0.749744</td>\n",
       "      <td>-0.417225</td>\n",
       "      <td>-0.218279</td>\n",
       "      <td>-0.706647</td>\n",
       "      <td>-0.952704</td>\n",
       "      <td>-0.675624</td>\n",
       "      <td>-0.008540</td>\n",
       "      <td>-0.781187</td>\n",
       "      <td>-0.490403</td>\n",
       "    </tr>\n",
       "    <tr>\n",
       "      <td>1</td>\n",
       "      <td>-0.776774</td>\n",
       "      <td>1.040757</td>\n",
       "      <td>1.339122</td>\n",
       "      <td>0.576797</td>\n",
       "      <td>0.677850</td>\n",
       "      <td>0.755024</td>\n",
       "      <td>-0.435795</td>\n",
       "      <td>0.600906</td>\n",
       "      <td>0.491879</td>\n",
       "      <td>0.556749</td>\n",
       "      <td>...</td>\n",
       "      <td>-1.000842</td>\n",
       "      <td>1.498374</td>\n",
       "      <td>0.442531</td>\n",
       "      <td>1.111278</td>\n",
       "      <td>-0.438459</td>\n",
       "      <td>1.666141</td>\n",
       "      <td>1.462862</td>\n",
       "      <td>1.011098</td>\n",
       "      <td>0.894800</td>\n",
       "      <td>1.049997</td>\n",
       "    </tr>\n",
       "    <tr>\n",
       "      <td>2</td>\n",
       "      <td>1.046224</td>\n",
       "      <td>0.274898</td>\n",
       "      <td>0.390671</td>\n",
       "      <td>-0.690814</td>\n",
       "      <td>0.355620</td>\n",
       "      <td>-1.068616</td>\n",
       "      <td>-0.752227</td>\n",
       "      <td>-0.406425</td>\n",
       "      <td>-0.422312</td>\n",
       "      <td>-0.845223</td>\n",
       "      <td>...</td>\n",
       "      <td>1.104288</td>\n",
       "      <td>0.851639</td>\n",
       "      <td>-0.019363</td>\n",
       "      <td>-0.696292</td>\n",
       "      <td>-0.326235</td>\n",
       "      <td>-0.632841</td>\n",
       "      <td>-0.682840</td>\n",
       "      <td>0.029574</td>\n",
       "      <td>-0.526944</td>\n",
       "      <td>0.624754</td>\n",
       "    </tr>\n",
       "    <tr>\n",
       "      <td>3</td>\n",
       "      <td>0.362600</td>\n",
       "      <td>-0.611887</td>\n",
       "      <td>-0.777014</td>\n",
       "      <td>-0.031656</td>\n",
       "      <td>0.033389</td>\n",
       "      <td>1.096956</td>\n",
       "      <td>-0.259999</td>\n",
       "      <td>0.021980</td>\n",
       "      <td>-0.559440</td>\n",
       "      <td>-0.644941</td>\n",
       "      <td>...</td>\n",
       "      <td>-0.146804</td>\n",
       "      <td>-0.018966</td>\n",
       "      <td>-0.523915</td>\n",
       "      <td>-0.293135</td>\n",
       "      <td>-0.861215</td>\n",
       "      <td>0.382145</td>\n",
       "      <td>0.437965</td>\n",
       "      <td>0.390575</td>\n",
       "      <td>-0.393902</td>\n",
       "      <td>-0.548416</td>\n",
       "    </tr>\n",
       "    <tr>\n",
       "      <td>4</td>\n",
       "      <td>0.362600</td>\n",
       "      <td>0.315206</td>\n",
       "      <td>-0.839149</td>\n",
       "      <td>-0.065459</td>\n",
       "      <td>0.248209</td>\n",
       "      <td>1.362904</td>\n",
       "      <td>-1.631206</td>\n",
       "      <td>0.438807</td>\n",
       "      <td>0.514733</td>\n",
       "      <td>-0.177617</td>\n",
       "      <td>...</td>\n",
       "      <td>-0.468941</td>\n",
       "      <td>-0.967304</td>\n",
       "      <td>-1.105595</td>\n",
       "      <td>-0.555263</td>\n",
       "      <td>-0.808580</td>\n",
       "      <td>-0.429293</td>\n",
       "      <td>-0.043769</td>\n",
       "      <td>-0.417858</td>\n",
       "      <td>-1.045276</td>\n",
       "      <td>-1.236586</td>\n",
       "    </tr>\n",
       "  </tbody>\n",
       "</table>\n",
       "<p>5 rows × 24 columns</p>\n",
       "</div>"
      ],
      "text/plain": [
       "        Age         G        MP       PER       TS%      TRB%      USG%  \\\n",
       "0 -0.776774  0.557056 -0.224825 -0.504898  0.366361 -1.087612 -0.488534   \n",
       "1 -0.776774  1.040757  1.339122  0.576797  0.677850  0.755024 -0.435795   \n",
       "2  1.046224  0.274898  0.390671 -0.690814  0.355620 -1.068616 -0.752227   \n",
       "3  0.362600 -0.611887 -0.777014 -0.031656  0.033389  1.096956 -0.259999   \n",
       "4  0.362600  0.315206 -0.839149 -0.065459  0.248209  1.362904 -1.631206   \n",
       "\n",
       "      WS/48       BPM      VORP  ...       FT%    Start%       ppg       spg  \\\n",
       "0  0.195658 -0.193764 -0.511420  ...  1.149238 -0.749744 -0.417225 -0.218279   \n",
       "1  0.600906  0.491879  0.556749  ... -1.000842  1.498374  0.442531  1.111278   \n",
       "2 -0.406425 -0.422312 -0.845223  ...  1.104288  0.851639 -0.019363 -0.696292   \n",
       "3  0.021980 -0.559440 -0.644941  ... -0.146804 -0.018966 -0.523915 -0.293135   \n",
       "4  0.438807  0.514733 -0.177617  ... -0.468941 -0.967304 -1.105595 -0.555263   \n",
       "\n",
       "        apg       rpg       bpg       fpg       tpg       mpg  \n",
       "0 -0.706647 -0.952704 -0.675624 -0.008540 -0.781187 -0.490403  \n",
       "1 -0.438459  1.666141  1.462862  1.011098  0.894800  1.049997  \n",
       "2 -0.326235 -0.632841 -0.682840  0.029574 -0.526944  0.624754  \n",
       "3 -0.861215  0.382145  0.437965  0.390575 -0.393902 -0.548416  \n",
       "4 -0.808580 -0.429293 -0.043769 -0.417858 -1.045276 -1.236586  \n",
       "\n",
       "[5 rows x 24 columns]"
      ]
     },
     "execution_count": 430,
     "metadata": {},
     "output_type": "execute_result"
    }
   ],
   "source": [
    "# step 1\n",
    "ss = StandardScaler()\n",
    "df_features_scaled = pd.DataFrame(ss.fit_transform(df_features))\n",
    "df_features_scaled.columns = df_features.columns\n",
    "df_features_scaled.head()"
   ]
  },
  {
   "cell_type": "code",
   "execution_count": 434,
   "metadata": {},
   "outputs": [],
   "source": [
    "# step 2\n",
    "df_features_scaled['Age']=list(stats.boxcox(abs(df_features_scaled['Age'])))[0]\n",
    "df_features_scaled['G']=list(stats.boxcox(abs(df_features_scaled['G'])))[0]\n",
    "df_features_scaled['MP']=list(stats.boxcox(abs(df_features_scaled['MP'])))[0]\n",
    "df_features_scaled['TRB%']=list(stats.boxcox(abs(df_features_scaled['TRB%'])))[0]\n",
    "df_features_scaled['VORP']=list(stats.boxcox(abs(df_features_scaled['VORP'])))[0]\n",
    "df_features_scaled['3P%']=list(stats.boxcox(abs(df_features_scaled['3P%'])))[0]\n",
    "df_features_scaled['Start%']=list(stats.boxcox(abs(df_features_scaled['Start%'])))[0]\n",
    "df_features_scaled['ppg']=list(stats.boxcox(abs(df_features_scaled['ppg'])))[0]\n",
    "df_features_scaled['spg']=list(stats.boxcox(abs(df_features_scaled['spg'])))[0]\n",
    "df_features_scaled['apg']=list(stats.boxcox(abs(df_features_scaled['apg'])))[0]\n",
    "df_features_scaled['rpg']=list(stats.boxcox(abs(df_features_scaled['rpg'])))[0]\n",
    "df_features_scaled['bpg']=list(stats.boxcox(abs(df_features_scaled['bpg'])))[0]\n",
    "df_features_scaled['tpg']=list(stats.boxcox(abs(df_features_scaled['tpg'])))[0]"
   ]
  },
  {
   "cell_type": "code",
   "execution_count": 439,
   "metadata": {},
   "outputs": [],
   "source": [
    "df_atg = df_features_scaled.copy()\n",
    "df_atg['PG'] = df_pos['PG']\n",
    "df_atg['SG'] = df_pos['SG']\n",
    "df_atg['SF'] = df_pos['SF']\n",
    "df_atg['PF'] = df_pos['PF']"
   ]
  },
  {
   "cell_type": "code",
   "execution_count": 443,
   "metadata": {
    "scrolled": false
   },
   "outputs": [
    {
     "data": {
      "text/html": [
       "<div>\n",
       "<style scoped>\n",
       "    .dataframe tbody tr th:only-of-type {\n",
       "        vertical-align: middle;\n",
       "    }\n",
       "\n",
       "    .dataframe tbody tr th {\n",
       "        vertical-align: top;\n",
       "    }\n",
       "\n",
       "    .dataframe thead th {\n",
       "        text-align: right;\n",
       "    }\n",
       "</style>\n",
       "<table border=\"1\" class=\"dataframe\">\n",
       "  <thead>\n",
       "    <tr style=\"text-align: right;\">\n",
       "      <th></th>\n",
       "      <th>Age</th>\n",
       "      <th>G</th>\n",
       "      <th>MP</th>\n",
       "      <th>PER</th>\n",
       "      <th>TS%</th>\n",
       "      <th>TRB%</th>\n",
       "      <th>USG%</th>\n",
       "      <th>WS/48</th>\n",
       "      <th>BPM</th>\n",
       "      <th>VORP</th>\n",
       "      <th>...</th>\n",
       "      <th>apg</th>\n",
       "      <th>rpg</th>\n",
       "      <th>bpg</th>\n",
       "      <th>fpg</th>\n",
       "      <th>tpg</th>\n",
       "      <th>mpg</th>\n",
       "      <th>PG</th>\n",
       "      <th>SG</th>\n",
       "      <th>SF</th>\n",
       "      <th>PF</th>\n",
       "    </tr>\n",
       "  </thead>\n",
       "  <tbody>\n",
       "    <tr>\n",
       "      <td>0</td>\n",
       "      <td>0.039353</td>\n",
       "      <td>-0.440707</td>\n",
       "      <td>-1.358368</td>\n",
       "      <td>-0.504898</td>\n",
       "      <td>0.366361</td>\n",
       "      <td>-1.733088</td>\n",
       "      <td>-0.488534</td>\n",
       "      <td>0.195658</td>\n",
       "      <td>-0.193764</td>\n",
       "      <td>-0.412009</td>\n",
       "      <td>...</td>\n",
       "      <td>-0.331281</td>\n",
       "      <td>-0.048101</td>\n",
       "      <td>-0.370539</td>\n",
       "      <td>-0.008540</td>\n",
       "      <td>-0.236384</td>\n",
       "      <td>-0.490403</td>\n",
       "      <td>0</td>\n",
       "      <td>1</td>\n",
       "      <td>0</td>\n",
       "      <td>0</td>\n",
       "    </tr>\n",
       "    <tr>\n",
       "      <td>1</td>\n",
       "      <td>0.039353</td>\n",
       "      <td>0.684527</td>\n",
       "      <td>-0.120946</td>\n",
       "      <td>0.576797</td>\n",
       "      <td>0.677850</td>\n",
       "      <td>-1.090477</td>\n",
       "      <td>-0.435795</td>\n",
       "      <td>0.600906</td>\n",
       "      <td>0.491879</td>\n",
       "      <td>-0.518033</td>\n",
       "      <td>...</td>\n",
       "      <td>-0.738316</td>\n",
       "      <td>0.551675</td>\n",
       "      <td>0.402285</td>\n",
       "      <td>1.011098</td>\n",
       "      <td>-0.108982</td>\n",
       "      <td>1.049997</td>\n",
       "      <td>0</td>\n",
       "      <td>0</td>\n",
       "      <td>0</td>\n",
       "      <td>0</td>\n",
       "    </tr>\n",
       "  </tbody>\n",
       "</table>\n",
       "<p>2 rows × 28 columns</p>\n",
       "</div>"
      ],
      "text/plain": [
       "        Age         G        MP       PER       TS%      TRB%      USG%  \\\n",
       "0  0.039353 -0.440707 -1.358368 -0.504898  0.366361 -1.733088 -0.488534   \n",
       "1  0.039353  0.684527 -0.120946  0.576797  0.677850 -1.090477 -0.435795   \n",
       "\n",
       "      WS/48       BPM      VORP  ...       apg       rpg       bpg       fpg  \\\n",
       "0  0.195658 -0.193764 -0.412009  ... -0.331281 -0.048101 -0.370539 -0.008540   \n",
       "1  0.600906  0.491879 -0.518033  ... -0.738316  0.551675  0.402285  1.011098   \n",
       "\n",
       "        tpg       mpg  PG  SG  SF  PF  \n",
       "0 -0.236384 -0.490403   0   1   0   0  \n",
       "1 -0.108982  1.049997   0   0   0   0  \n",
       "\n",
       "[2 rows x 28 columns]"
      ]
     },
     "execution_count": 443,
     "metadata": {},
     "output_type": "execute_result"
    }
   ],
   "source": [
    "# This brings it all together\n",
    "df_atg.head(2)"
   ]
  },
  {
   "cell_type": "markdown",
   "metadata": {},
   "source": [
    "## What happens with less outliers?"
   ]
  },
  {
   "cell_type": "code",
   "execution_count": 636,
   "metadata": {
    "scrolled": true
   },
   "outputs": [
    {
     "data": {
      "text/plain": [
       "(433, 29)"
      ]
     },
     "execution_count": 636,
     "metadata": {},
     "output_type": "execute_result"
    }
   ],
   "source": [
    "df_atg_2 = df_atg.copy()\n",
    "df_atg_2['salary'] = df_target['salary']\n",
    "df_atg_2.shape"
   ]
  },
  {
   "cell_type": "code",
   "execution_count": 637,
   "metadata": {},
   "outputs": [
    {
     "data": {
      "text/plain": [
       "(344, 29)"
      ]
     },
     "execution_count": 637,
     "metadata": {},
     "output_type": "execute_result"
    }
   ],
   "source": [
    "df_atg_2 = df_atg_2[(np.abs(stats.zscore(df_atg_2)) < 2.5).all(axis=1)]\n",
    "df_atg_2.shape"
   ]
  },
  {
   "cell_type": "code",
   "execution_count": 638,
   "metadata": {
    "scrolled": true
   },
   "outputs": [],
   "source": [
    "no_outliers_features = df_atg_2.iloc[:,0:28]"
   ]
  },
  {
   "cell_type": "code",
   "execution_count": 639,
   "metadata": {
    "scrolled": true
   },
   "outputs": [],
   "source": [
    "no_outliers_target = df_atg_2.iloc[:,28:29]"
   ]
  },
  {
   "cell_type": "code",
   "execution_count": 640,
   "metadata": {},
   "outputs": [
    {
     "name": "stdout",
     "output_type": "stream",
     "text": [
      "r^2: 0.5759703083137657\n",
      "rmse: 4187405.914610501\n"
     ]
    }
   ],
   "source": [
    "lr = LinearRegression()\n",
    "lr.fit(no_outliers_features, no_outliers_target)\n",
    "y_hat_no_outliers = lr.predict(no_outliers_features)\n",
    "print(f\"r^2: {r2_score(no_outliers_target, y_hat_no_outliers)}\")\n",
    "print(f\"rmse: {np.sqrt(mean_squared_error(no_outliers_target, y_hat_no_outliers))}\")"
   ]
  },
  {
   "cell_type": "code",
   "execution_count": 641,
   "metadata": {},
   "outputs": [
    {
     "data": {
      "text/html": [
       "<table class=\"simpletable\">\n",
       "<caption>OLS Regression Results</caption>\n",
       "<tr>\n",
       "  <th>Dep. Variable:</th>         <td>salary</td>      <th>  R-squared (uncentered):</th>      <td>   0.695</td> \n",
       "</tr>\n",
       "<tr>\n",
       "  <th>Model:</th>                   <td>OLS</td>       <th>  Adj. R-squared (uncentered):</th> <td>   0.668</td> \n",
       "</tr>\n",
       "<tr>\n",
       "  <th>Method:</th>             <td>Least Squares</td>  <th>  F-statistic:       </th>          <td>   25.77</td> \n",
       "</tr>\n",
       "<tr>\n",
       "  <th>Date:</th>             <td>Thu, 02 Jan 2020</td> <th>  Prob (F-statistic):</th>          <td>2.59e-65</td> \n",
       "</tr>\n",
       "<tr>\n",
       "  <th>Time:</th>                 <td>09:47:41</td>     <th>  Log-Likelihood:    </th>          <td> -5779.5</td> \n",
       "</tr>\n",
       "<tr>\n",
       "  <th>No. Observations:</th>      <td>   344</td>      <th>  AIC:               </th>          <td>1.161e+04</td>\n",
       "</tr>\n",
       "<tr>\n",
       "  <th>Df Residuals:</th>          <td>   316</td>      <th>  BIC:               </th>          <td>1.172e+04</td>\n",
       "</tr>\n",
       "<tr>\n",
       "  <th>Df Model:</th>              <td>    28</td>      <th>                     </th>              <td> </td>    \n",
       "</tr>\n",
       "<tr>\n",
       "  <th>Covariance Type:</th>      <td>nonrobust</td>    <th>                     </th>              <td> </td>    \n",
       "</tr>\n",
       "</table>\n",
       "<table class=\"simpletable\">\n",
       "<tr>\n",
       "     <td></td>       <th>coef</th>     <th>std err</th>      <th>t</th>      <th>P>|t|</th>  <th>[0.025</th>    <th>0.975]</th>  \n",
       "</tr>\n",
       "<tr>\n",
       "  <th>Age</th>    <td>  -2.2e+06</td> <td> 4.12e+05</td> <td>   -5.339</td> <td> 0.000</td> <td>-3.01e+06</td> <td>-1.39e+06</td>\n",
       "</tr>\n",
       "<tr>\n",
       "  <th>G</th>      <td> 5.107e+05</td> <td> 4.07e+05</td> <td>    1.256</td> <td> 0.210</td> <td>-2.89e+05</td> <td> 1.31e+06</td>\n",
       "</tr>\n",
       "<tr>\n",
       "  <th>MP</th>     <td>-4.626e+05</td> <td> 4.63e+05</td> <td>   -0.999</td> <td> 0.318</td> <td>-1.37e+06</td> <td> 4.48e+05</td>\n",
       "</tr>\n",
       "<tr>\n",
       "  <th>PER</th>    <td>  2.96e+05</td> <td> 1.89e+06</td> <td>    0.156</td> <td> 0.876</td> <td>-3.43e+06</td> <td> 4.02e+06</td>\n",
       "</tr>\n",
       "<tr>\n",
       "  <th>TS%</th>    <td>-2.945e+06</td> <td> 2.03e+06</td> <td>   -1.450</td> <td> 0.148</td> <td>-6.94e+06</td> <td> 1.05e+06</td>\n",
       "</tr>\n",
       "<tr>\n",
       "  <th>TRB%</th>   <td> -1.13e+06</td> <td>  3.8e+05</td> <td>   -2.973</td> <td> 0.003</td> <td>-1.88e+06</td> <td>-3.82e+05</td>\n",
       "</tr>\n",
       "<tr>\n",
       "  <th>USG%</th>   <td> 3.622e+05</td> <td>  9.2e+05</td> <td>    0.393</td> <td> 0.694</td> <td>-1.45e+06</td> <td> 2.17e+06</td>\n",
       "</tr>\n",
       "<tr>\n",
       "  <th>WS/48</th>  <td> 2.913e+06</td> <td> 1.63e+06</td> <td>    1.790</td> <td> 0.074</td> <td>-2.88e+05</td> <td> 6.11e+06</td>\n",
       "</tr>\n",
       "<tr>\n",
       "  <th>BPM</th>    <td>-3.413e+05</td> <td> 1.15e+06</td> <td>   -0.296</td> <td> 0.768</td> <td>-2.61e+06</td> <td> 1.93e+06</td>\n",
       "</tr>\n",
       "<tr>\n",
       "  <th>VORP</th>   <td>-1.114e+06</td> <td> 4.39e+05</td> <td>   -2.535</td> <td> 0.012</td> <td>-1.98e+06</td> <td>-2.49e+05</td>\n",
       "</tr>\n",
       "<tr>\n",
       "  <th>FG%</th>    <td> 2.476e+06</td> <td>  1.3e+06</td> <td>    1.900</td> <td> 0.058</td> <td> -8.8e+04</td> <td> 5.04e+06</td>\n",
       "</tr>\n",
       "<tr>\n",
       "  <th>3P%</th>    <td>-1.694e+05</td> <td> 4.15e+05</td> <td>   -0.408</td> <td> 0.683</td> <td>-9.85e+05</td> <td> 6.47e+05</td>\n",
       "</tr>\n",
       "<tr>\n",
       "  <th>2P%</th>    <td>-1.454e+06</td> <td> 7.95e+05</td> <td>   -1.828</td> <td> 0.068</td> <td>-3.02e+06</td> <td> 1.11e+05</td>\n",
       "</tr>\n",
       "<tr>\n",
       "  <th>eFG%</th>   <td> 1.351e+06</td> <td> 1.88e+06</td> <td>    0.719</td> <td> 0.472</td> <td>-2.34e+06</td> <td> 5.05e+06</td>\n",
       "</tr>\n",
       "<tr>\n",
       "  <th>FT%</th>    <td> 2.719e+05</td> <td> 5.28e+05</td> <td>    0.515</td> <td> 0.607</td> <td>-7.67e+05</td> <td> 1.31e+06</td>\n",
       "</tr>\n",
       "<tr>\n",
       "  <th>Start%</th> <td> 2.094e+06</td> <td> 7.62e+05</td> <td>    2.749</td> <td> 0.006</td> <td> 5.95e+05</td> <td> 3.59e+06</td>\n",
       "</tr>\n",
       "<tr>\n",
       "  <th>ppg</th>    <td> 4.702e+05</td> <td> 5.48e+05</td> <td>    0.857</td> <td> 0.392</td> <td>-6.09e+05</td> <td> 1.55e+06</td>\n",
       "</tr>\n",
       "<tr>\n",
       "  <th>spg</th>    <td>-1.874e+05</td> <td>  4.4e+05</td> <td>   -0.426</td> <td> 0.670</td> <td>-1.05e+06</td> <td> 6.78e+05</td>\n",
       "</tr>\n",
       "<tr>\n",
       "  <th>apg</th>    <td>-9.392e+05</td> <td> 5.19e+05</td> <td>   -1.810</td> <td> 0.071</td> <td>-1.96e+06</td> <td>  8.2e+04</td>\n",
       "</tr>\n",
       "<tr>\n",
       "  <th>rpg</th>    <td>-1.051e+05</td> <td> 4.37e+05</td> <td>   -0.241</td> <td> 0.810</td> <td>-9.64e+05</td> <td> 7.54e+05</td>\n",
       "</tr>\n",
       "<tr>\n",
       "  <th>bpg</th>    <td>-3.383e+05</td> <td> 4.25e+05</td> <td>   -0.796</td> <td> 0.427</td> <td>-1.17e+06</td> <td> 4.98e+05</td>\n",
       "</tr>\n",
       "<tr>\n",
       "  <th>fpg</th>    <td> 5.997e+05</td> <td> 5.17e+05</td> <td>    1.159</td> <td> 0.247</td> <td>-4.18e+05</td> <td> 1.62e+06</td>\n",
       "</tr>\n",
       "<tr>\n",
       "  <th>tpg</th>    <td> 2046.1449</td> <td> 5.58e+05</td> <td>    0.004</td> <td> 0.997</td> <td> -1.1e+06</td> <td>  1.1e+06</td>\n",
       "</tr>\n",
       "<tr>\n",
       "  <th>mpg</th>    <td> 3.257e+06</td> <td> 5.87e+05</td> <td>    5.551</td> <td> 0.000</td> <td>  2.1e+06</td> <td> 4.41e+06</td>\n",
       "</tr>\n",
       "<tr>\n",
       "  <th>PG</th>     <td> 2.348e+06</td> <td>  9.8e+05</td> <td>    2.395</td> <td> 0.017</td> <td> 4.19e+05</td> <td> 4.28e+06</td>\n",
       "</tr>\n",
       "<tr>\n",
       "  <th>SG</th>     <td>  2.43e+06</td> <td> 1.01e+06</td> <td>    2.400</td> <td> 0.017</td> <td> 4.38e+05</td> <td> 4.42e+06</td>\n",
       "</tr>\n",
       "<tr>\n",
       "  <th>SF</th>     <td>  4.46e+06</td> <td> 9.39e+05</td> <td>    4.751</td> <td> 0.000</td> <td> 2.61e+06</td> <td> 6.31e+06</td>\n",
       "</tr>\n",
       "<tr>\n",
       "  <th>PF</th>     <td> 2.852e+06</td> <td> 8.41e+05</td> <td>    3.393</td> <td> 0.001</td> <td>  1.2e+06</td> <td> 4.51e+06</td>\n",
       "</tr>\n",
       "</table>\n",
       "<table class=\"simpletable\">\n",
       "<tr>\n",
       "  <th>Omnibus:</th>       <td>11.496</td> <th>  Durbin-Watson:     </th> <td>   1.854</td>\n",
       "</tr>\n",
       "<tr>\n",
       "  <th>Prob(Omnibus):</th> <td> 0.003</td> <th>  Jarque-Bera (JB):  </th> <td>  12.349</td>\n",
       "</tr>\n",
       "<tr>\n",
       "  <th>Skew:</th>          <td> 0.375</td> <th>  Prob(JB):          </th> <td> 0.00208</td>\n",
       "</tr>\n",
       "<tr>\n",
       "  <th>Kurtosis:</th>      <td> 3.546</td> <th>  Cond. No.          </th> <td>    21.9</td>\n",
       "</tr>\n",
       "</table><br/><br/>Warnings:<br/>[1] Standard Errors assume that the covariance matrix of the errors is correctly specified."
      ],
      "text/plain": [
       "<class 'statsmodels.iolib.summary.Summary'>\n",
       "\"\"\"\n",
       "                                 OLS Regression Results                                \n",
       "=======================================================================================\n",
       "Dep. Variable:                 salary   R-squared (uncentered):                   0.695\n",
       "Model:                            OLS   Adj. R-squared (uncentered):              0.668\n",
       "Method:                 Least Squares   F-statistic:                              25.77\n",
       "Date:                Thu, 02 Jan 2020   Prob (F-statistic):                    2.59e-65\n",
       "Time:                        09:47:41   Log-Likelihood:                         -5779.5\n",
       "No. Observations:                 344   AIC:                                  1.161e+04\n",
       "Df Residuals:                     316   BIC:                                  1.172e+04\n",
       "Df Model:                          28                                                  \n",
       "Covariance Type:            nonrobust                                                  \n",
       "==============================================================================\n",
       "                 coef    std err          t      P>|t|      [0.025      0.975]\n",
       "------------------------------------------------------------------------------\n",
       "Age          -2.2e+06   4.12e+05     -5.339      0.000   -3.01e+06   -1.39e+06\n",
       "G           5.107e+05   4.07e+05      1.256      0.210   -2.89e+05    1.31e+06\n",
       "MP         -4.626e+05   4.63e+05     -0.999      0.318   -1.37e+06    4.48e+05\n",
       "PER          2.96e+05   1.89e+06      0.156      0.876   -3.43e+06    4.02e+06\n",
       "TS%        -2.945e+06   2.03e+06     -1.450      0.148   -6.94e+06    1.05e+06\n",
       "TRB%        -1.13e+06    3.8e+05     -2.973      0.003   -1.88e+06   -3.82e+05\n",
       "USG%        3.622e+05    9.2e+05      0.393      0.694   -1.45e+06    2.17e+06\n",
       "WS/48       2.913e+06   1.63e+06      1.790      0.074   -2.88e+05    6.11e+06\n",
       "BPM        -3.413e+05   1.15e+06     -0.296      0.768   -2.61e+06    1.93e+06\n",
       "VORP       -1.114e+06   4.39e+05     -2.535      0.012   -1.98e+06   -2.49e+05\n",
       "FG%         2.476e+06    1.3e+06      1.900      0.058    -8.8e+04    5.04e+06\n",
       "3P%        -1.694e+05   4.15e+05     -0.408      0.683   -9.85e+05    6.47e+05\n",
       "2P%        -1.454e+06   7.95e+05     -1.828      0.068   -3.02e+06    1.11e+05\n",
       "eFG%        1.351e+06   1.88e+06      0.719      0.472   -2.34e+06    5.05e+06\n",
       "FT%         2.719e+05   5.28e+05      0.515      0.607   -7.67e+05    1.31e+06\n",
       "Start%      2.094e+06   7.62e+05      2.749      0.006    5.95e+05    3.59e+06\n",
       "ppg         4.702e+05   5.48e+05      0.857      0.392   -6.09e+05    1.55e+06\n",
       "spg        -1.874e+05    4.4e+05     -0.426      0.670   -1.05e+06    6.78e+05\n",
       "apg        -9.392e+05   5.19e+05     -1.810      0.071   -1.96e+06     8.2e+04\n",
       "rpg        -1.051e+05   4.37e+05     -0.241      0.810   -9.64e+05    7.54e+05\n",
       "bpg        -3.383e+05   4.25e+05     -0.796      0.427   -1.17e+06    4.98e+05\n",
       "fpg         5.997e+05   5.17e+05      1.159      0.247   -4.18e+05    1.62e+06\n",
       "tpg         2046.1449   5.58e+05      0.004      0.997    -1.1e+06     1.1e+06\n",
       "mpg         3.257e+06   5.87e+05      5.551      0.000     2.1e+06    4.41e+06\n",
       "PG          2.348e+06    9.8e+05      2.395      0.017    4.19e+05    4.28e+06\n",
       "SG           2.43e+06   1.01e+06      2.400      0.017    4.38e+05    4.42e+06\n",
       "SF           4.46e+06   9.39e+05      4.751      0.000    2.61e+06    6.31e+06\n",
       "PF          2.852e+06   8.41e+05      3.393      0.001     1.2e+06    4.51e+06\n",
       "==============================================================================\n",
       "Omnibus:                       11.496   Durbin-Watson:                   1.854\n",
       "Prob(Omnibus):                  0.003   Jarque-Bera (JB):               12.349\n",
       "Skew:                           0.375   Prob(JB):                      0.00208\n",
       "Kurtosis:                       3.546   Cond. No.                         21.9\n",
       "==============================================================================\n",
       "\n",
       "Warnings:\n",
       "[1] Standard Errors assume that the covariance matrix of the errors is correctly specified.\n",
       "\"\"\""
      ]
     },
     "execution_count": 641,
     "metadata": {},
     "output_type": "execute_result"
    }
   ],
   "source": [
    "mod = sm.OLS(no_outliers_target,no_outliers_features).fit()\n",
    "mod.summary()"
   ]
  },
  {
   "cell_type": "markdown",
   "metadata": {},
   "source": [
    "## Train-Test-Split and fit model again on initial information"
   ]
  },
  {
   "cell_type": "code",
   "execution_count": 642,
   "metadata": {},
   "outputs": [],
   "source": [
    "X_tr, X_te, y_tr, y_te = train_test_split(df_atg,df_target,test_size=0.3,random_state=45)"
   ]
  },
  {
   "cell_type": "code",
   "execution_count": 643,
   "metadata": {
    "scrolled": true
   },
   "outputs": [
    {
     "data": {
      "text/html": [
       "<div>\n",
       "<style scoped>\n",
       "    .dataframe tbody tr th:only-of-type {\n",
       "        vertical-align: middle;\n",
       "    }\n",
       "\n",
       "    .dataframe tbody tr th {\n",
       "        vertical-align: top;\n",
       "    }\n",
       "\n",
       "    .dataframe thead th {\n",
       "        text-align: right;\n",
       "    }\n",
       "</style>\n",
       "<table border=\"1\" class=\"dataframe\">\n",
       "  <thead>\n",
       "    <tr style=\"text-align: right;\">\n",
       "      <th></th>\n",
       "      <th>Age</th>\n",
       "      <th>G</th>\n",
       "      <th>MP</th>\n",
       "      <th>PER</th>\n",
       "      <th>TS%</th>\n",
       "      <th>TRB%</th>\n",
       "      <th>USG%</th>\n",
       "      <th>WS/48</th>\n",
       "      <th>BPM</th>\n",
       "      <th>VORP</th>\n",
       "      <th>...</th>\n",
       "      <th>apg</th>\n",
       "      <th>rpg</th>\n",
       "      <th>bpg</th>\n",
       "      <th>fpg</th>\n",
       "      <th>tpg</th>\n",
       "      <th>mpg</th>\n",
       "      <th>PG</th>\n",
       "      <th>SG</th>\n",
       "      <th>SF</th>\n",
       "      <th>PF</th>\n",
       "    </tr>\n",
       "  </thead>\n",
       "  <tbody>\n",
       "    <tr>\n",
       "      <td>0</td>\n",
       "      <td>-826001.855498</td>\n",
       "      <td>480187.370894</td>\n",
       "      <td>-164487.40803</td>\n",
       "      <td>-3.265309e+06</td>\n",
       "      <td>-1.087048e+06</td>\n",
       "      <td>896704.336368</td>\n",
       "      <td>1.775972e+06</td>\n",
       "      <td>4.388426e+06</td>\n",
       "      <td>-25496.597639</td>\n",
       "      <td>-770246.825621</td>\n",
       "      <td>...</td>\n",
       "      <td>803234.0819</td>\n",
       "      <td>995894.637785</td>\n",
       "      <td>10046.529986</td>\n",
       "      <td>-900599.517114</td>\n",
       "      <td>182793.343811</td>\n",
       "      <td>5.327223e+06</td>\n",
       "      <td>-2.031037e+06</td>\n",
       "      <td>-3.411742e+06</td>\n",
       "      <td>-1.624130e+06</td>\n",
       "      <td>-1.390165e+06</td>\n",
       "    </tr>\n",
       "  </tbody>\n",
       "</table>\n",
       "<p>1 rows × 28 columns</p>\n",
       "</div>"
      ],
      "text/plain": [
       "             Age              G            MP           PER           TS%  \\\n",
       "0 -826001.855498  480187.370894 -164487.40803 -3.265309e+06 -1.087048e+06   \n",
       "\n",
       "            TRB%          USG%         WS/48           BPM           VORP  \\\n",
       "0  896704.336368  1.775972e+06  4.388426e+06 -25496.597639 -770246.825621   \n",
       "\n",
       "   ...          apg            rpg           bpg            fpg  \\\n",
       "0  ...  803234.0819  995894.637785  10046.529986 -900599.517114   \n",
       "\n",
       "             tpg           mpg            PG            SG            SF  \\\n",
       "0  182793.343811  5.327223e+06 -2.031037e+06 -3.411742e+06 -1.624130e+06   \n",
       "\n",
       "             PF  \n",
       "0 -1.390165e+06  \n",
       "\n",
       "[1 rows x 28 columns]"
      ]
     },
     "execution_count": 643,
     "metadata": {},
     "output_type": "execute_result"
    }
   ],
   "source": [
    "lr = LinearRegression()\n",
    "lr.fit(X_tr, y_tr)\n",
    "y_hat_tr = lr.predict(X_tr)\n",
    "coef_df = pd.DataFrame(lr.coef_)\n",
    "coef_df.columns = df_atg.columns\n",
    "coef_df"
   ]
  },
  {
   "cell_type": "code",
   "execution_count": 644,
   "metadata": {
    "scrolled": true
   },
   "outputs": [
    {
     "name": "stdout",
     "output_type": "stream",
     "text": [
      "r^2: 0.6527368420567959\n",
      "rmse: 4572307.427521682\n"
     ]
    }
   ],
   "source": [
    "print(f\"r^2: {r2_score(y_tr, y_hat_tr)}\")\n",
    "print(f\"rmse: {np.sqrt(mean_squared_error(y_tr, y_hat_tr))}\")"
   ]
  },
  {
   "cell_type": "code",
   "execution_count": 645,
   "metadata": {},
   "outputs": [
    {
     "name": "stdout",
     "output_type": "stream",
     "text": [
      "r^2: 0.6188542316723659\n",
      "rmse: 4797815.332482418\n"
     ]
    }
   ],
   "source": [
    "lr = LinearRegression()\n",
    "lr.fit(X_tr, y_tr)\n",
    "y_hat_te = lr.predict(X_te)\n",
    "print(f\"r^2: {r2_score(y_te, y_hat_te)}\")\n",
    "print(f\"rmse: {np.sqrt(mean_squared_error(y_te, y_hat_te))}\")"
   ]
  },
  {
   "cell_type": "code",
   "execution_count": 646,
   "metadata": {
    "scrolled": false
   },
   "outputs": [
    {
     "data": {
      "text/html": [
       "<table class=\"simpletable\">\n",
       "<caption>OLS Regression Results</caption>\n",
       "<tr>\n",
       "  <th>Dep. Variable:</th>         <td>salary</td>      <th>  R-squared (uncentered):</th>      <td>   0.726</td> \n",
       "</tr>\n",
       "<tr>\n",
       "  <th>Model:</th>                   <td>OLS</td>       <th>  Adj. R-squared (uncentered):</th> <td>   0.698</td> \n",
       "</tr>\n",
       "<tr>\n",
       "  <th>Method:</th>             <td>Least Squares</td>  <th>  F-statistic:       </th>          <td>   25.99</td> \n",
       "</tr>\n",
       "<tr>\n",
       "  <th>Date:</th>             <td>Thu, 02 Jan 2020</td> <th>  Prob (F-statistic):</th>          <td>1.71e-61</td> \n",
       "</tr>\n",
       "<tr>\n",
       "  <th>Time:</th>                 <td>10:05:03</td>     <th>  Log-Likelihood:    </th>          <td> -5125.0</td> \n",
       "</tr>\n",
       "<tr>\n",
       "  <th>No. Observations:</th>      <td>   303</td>      <th>  AIC:               </th>          <td>1.031e+04</td>\n",
       "</tr>\n",
       "<tr>\n",
       "  <th>Df Residuals:</th>          <td>   275</td>      <th>  BIC:               </th>          <td>1.041e+04</td>\n",
       "</tr>\n",
       "<tr>\n",
       "  <th>Df Model:</th>              <td>    28</td>      <th>                     </th>              <td> </td>    \n",
       "</tr>\n",
       "<tr>\n",
       "  <th>Covariance Type:</th>      <td>nonrobust</td>    <th>                     </th>              <td> </td>    \n",
       "</tr>\n",
       "</table>\n",
       "<table class=\"simpletable\">\n",
       "<tr>\n",
       "     <td></td>       <th>coef</th>     <th>std err</th>      <th>t</th>      <th>P>|t|</th>  <th>[0.025</th>    <th>0.975]</th>  \n",
       "</tr>\n",
       "<tr>\n",
       "  <th>Age</th>    <td> -2.22e+06</td> <td> 4.97e+05</td> <td>   -4.465</td> <td> 0.000</td> <td> -3.2e+06</td> <td>-1.24e+06</td>\n",
       "</tr>\n",
       "<tr>\n",
       "  <th>G</th>      <td> 1.673e+05</td> <td> 4.87e+05</td> <td>    0.344</td> <td> 0.731</td> <td> -7.9e+05</td> <td> 1.13e+06</td>\n",
       "</tr>\n",
       "<tr>\n",
       "  <th>MP</th>     <td>-9.343e+05</td> <td> 5.68e+05</td> <td>   -1.645</td> <td> 0.101</td> <td>-2.05e+06</td> <td> 1.84e+05</td>\n",
       "</tr>\n",
       "<tr>\n",
       "  <th>PER</th>    <td> 8.392e+05</td> <td> 1.78e+06</td> <td>    0.470</td> <td> 0.638</td> <td>-2.67e+06</td> <td> 4.35e+06</td>\n",
       "</tr>\n",
       "<tr>\n",
       "  <th>TS%</th>    <td>-2.147e+06</td> <td> 1.66e+06</td> <td>   -1.294</td> <td> 0.197</td> <td>-5.41e+06</td> <td> 1.12e+06</td>\n",
       "</tr>\n",
       "<tr>\n",
       "  <th>TRB%</th>   <td>-4.791e+05</td> <td> 4.52e+05</td> <td>   -1.060</td> <td> 0.290</td> <td>-1.37e+06</td> <td> 4.11e+05</td>\n",
       "</tr>\n",
       "<tr>\n",
       "  <th>USG%</th>   <td> 1.236e+05</td> <td> 8.88e+05</td> <td>    0.139</td> <td> 0.889</td> <td>-1.63e+06</td> <td> 1.87e+06</td>\n",
       "</tr>\n",
       "<tr>\n",
       "  <th>WS/48</th>  <td> 2.838e+06</td> <td> 1.53e+06</td> <td>    1.849</td> <td> 0.066</td> <td>-1.84e+05</td> <td> 5.86e+06</td>\n",
       "</tr>\n",
       "<tr>\n",
       "  <th>BPM</th>    <td>-5.015e+05</td> <td> 7.62e+05</td> <td>   -0.658</td> <td> 0.511</td> <td>   -2e+06</td> <td> 9.99e+05</td>\n",
       "</tr>\n",
       "<tr>\n",
       "  <th>VORP</th>   <td>-1.167e+06</td> <td> 5.17e+05</td> <td>   -2.257</td> <td> 0.025</td> <td>-2.19e+06</td> <td>-1.49e+05</td>\n",
       "</tr>\n",
       "<tr>\n",
       "  <th>FG%</th>    <td> 2.527e+06</td> <td> 1.32e+06</td> <td>    1.910</td> <td> 0.057</td> <td>-7.81e+04</td> <td> 5.13e+06</td>\n",
       "</tr>\n",
       "<tr>\n",
       "  <th>3P%</th>    <td>-2.511e+05</td> <td> 4.14e+05</td> <td>   -0.606</td> <td> 0.545</td> <td>-1.07e+06</td> <td> 5.64e+05</td>\n",
       "</tr>\n",
       "<tr>\n",
       "  <th>2P%</th>    <td>-6.579e+05</td> <td> 7.24e+05</td> <td>   -0.909</td> <td> 0.364</td> <td>-2.08e+06</td> <td> 7.67e+05</td>\n",
       "</tr>\n",
       "<tr>\n",
       "  <th>eFG%</th>   <td>-9.254e+05</td> <td> 1.79e+06</td> <td>   -0.516</td> <td> 0.606</td> <td>-4.45e+06</td> <td>  2.6e+06</td>\n",
       "</tr>\n",
       "<tr>\n",
       "  <th>FT%</th>    <td>-2.102e+05</td> <td> 4.93e+05</td> <td>   -0.426</td> <td> 0.670</td> <td>-1.18e+06</td> <td> 7.61e+05</td>\n",
       "</tr>\n",
       "<tr>\n",
       "  <th>Start%</th> <td> 2.977e+06</td> <td> 9.84e+05</td> <td>    3.024</td> <td> 0.003</td> <td> 1.04e+06</td> <td> 4.91e+06</td>\n",
       "</tr>\n",
       "<tr>\n",
       "  <th>ppg</th>    <td> 7.275e+05</td> <td> 6.11e+05</td> <td>    1.190</td> <td> 0.235</td> <td>-4.76e+05</td> <td> 1.93e+06</td>\n",
       "</tr>\n",
       "<tr>\n",
       "  <th>spg</th>    <td>-3.576e+05</td> <td> 5.23e+05</td> <td>   -0.683</td> <td> 0.495</td> <td>-1.39e+06</td> <td> 6.73e+05</td>\n",
       "</tr>\n",
       "<tr>\n",
       "  <th>apg</th>    <td>-2.494e+05</td> <td>  5.7e+05</td> <td>   -0.438</td> <td> 0.662</td> <td>-1.37e+06</td> <td> 8.72e+05</td>\n",
       "</tr>\n",
       "<tr>\n",
       "  <th>rpg</th>    <td> 3.529e+05</td> <td> 4.92e+05</td> <td>    0.717</td> <td> 0.474</td> <td>-6.15e+05</td> <td> 1.32e+06</td>\n",
       "</tr>\n",
       "<tr>\n",
       "  <th>bpg</th>    <td>-2.589e+05</td> <td> 4.45e+05</td> <td>   -0.582</td> <td> 0.561</td> <td>-1.13e+06</td> <td> 6.16e+05</td>\n",
       "</tr>\n",
       "<tr>\n",
       "  <th>fpg</th>    <td>  3.39e+05</td> <td> 5.97e+05</td> <td>    0.568</td> <td> 0.570</td> <td>-8.35e+05</td> <td> 1.51e+06</td>\n",
       "</tr>\n",
       "<tr>\n",
       "  <th>tpg</th>    <td> 2.239e+05</td> <td>  6.4e+05</td> <td>    0.350</td> <td> 0.727</td> <td>-1.04e+06</td> <td> 1.48e+06</td>\n",
       "</tr>\n",
       "<tr>\n",
       "  <th>mpg</th>    <td> 3.945e+06</td> <td> 6.52e+05</td> <td>    6.051</td> <td> 0.000</td> <td> 2.66e+06</td> <td> 5.23e+06</td>\n",
       "</tr>\n",
       "<tr>\n",
       "  <th>PG</th>     <td>  4.86e+06</td> <td> 1.07e+06</td> <td>    4.535</td> <td> 0.000</td> <td> 2.75e+06</td> <td> 6.97e+06</td>\n",
       "</tr>\n",
       "<tr>\n",
       "  <th>SG</th>     <td> 4.305e+06</td> <td> 1.16e+06</td> <td>    3.715</td> <td> 0.000</td> <td> 2.02e+06</td> <td> 6.59e+06</td>\n",
       "</tr>\n",
       "<tr>\n",
       "  <th>SF</th>     <td> 6.358e+06</td> <td> 1.17e+06</td> <td>    5.455</td> <td> 0.000</td> <td> 4.06e+06</td> <td> 8.65e+06</td>\n",
       "</tr>\n",
       "<tr>\n",
       "  <th>PF</th>     <td> 4.596e+06</td> <td> 9.85e+05</td> <td>    4.664</td> <td> 0.000</td> <td> 2.66e+06</td> <td> 6.54e+06</td>\n",
       "</tr>\n",
       "</table>\n",
       "<table class=\"simpletable\">\n",
       "<tr>\n",
       "  <th>Omnibus:</th>       <td> 3.660</td> <th>  Durbin-Watson:     </th> <td>   1.866</td>\n",
       "</tr>\n",
       "<tr>\n",
       "  <th>Prob(Omnibus):</th> <td> 0.160</td> <th>  Jarque-Bera (JB):  </th> <td>   3.566</td>\n",
       "</tr>\n",
       "<tr>\n",
       "  <th>Skew:</th>          <td> 0.172</td> <th>  Prob(JB):          </th> <td>   0.168</td>\n",
       "</tr>\n",
       "<tr>\n",
       "  <th>Kurtosis:</th>      <td> 3.405</td> <th>  Cond. No.          </th> <td>    17.7</td>\n",
       "</tr>\n",
       "</table><br/><br/>Warnings:<br/>[1] Standard Errors assume that the covariance matrix of the errors is correctly specified."
      ],
      "text/plain": [
       "<class 'statsmodels.iolib.summary.Summary'>\n",
       "\"\"\"\n",
       "                                 OLS Regression Results                                \n",
       "=======================================================================================\n",
       "Dep. Variable:                 salary   R-squared (uncentered):                   0.726\n",
       "Model:                            OLS   Adj. R-squared (uncentered):              0.698\n",
       "Method:                 Least Squares   F-statistic:                              25.99\n",
       "Date:                Thu, 02 Jan 2020   Prob (F-statistic):                    1.71e-61\n",
       "Time:                        10:05:03   Log-Likelihood:                         -5125.0\n",
       "No. Observations:                 303   AIC:                                  1.031e+04\n",
       "Df Residuals:                     275   BIC:                                  1.041e+04\n",
       "Df Model:                          28                                                  \n",
       "Covariance Type:            nonrobust                                                  \n",
       "==============================================================================\n",
       "                 coef    std err          t      P>|t|      [0.025      0.975]\n",
       "------------------------------------------------------------------------------\n",
       "Age         -2.22e+06   4.97e+05     -4.465      0.000    -3.2e+06   -1.24e+06\n",
       "G           1.673e+05   4.87e+05      0.344      0.731    -7.9e+05    1.13e+06\n",
       "MP         -9.343e+05   5.68e+05     -1.645      0.101   -2.05e+06    1.84e+05\n",
       "PER         8.392e+05   1.78e+06      0.470      0.638   -2.67e+06    4.35e+06\n",
       "TS%        -2.147e+06   1.66e+06     -1.294      0.197   -5.41e+06    1.12e+06\n",
       "TRB%       -4.791e+05   4.52e+05     -1.060      0.290   -1.37e+06    4.11e+05\n",
       "USG%        1.236e+05   8.88e+05      0.139      0.889   -1.63e+06    1.87e+06\n",
       "WS/48       2.838e+06   1.53e+06      1.849      0.066   -1.84e+05    5.86e+06\n",
       "BPM        -5.015e+05   7.62e+05     -0.658      0.511      -2e+06    9.99e+05\n",
       "VORP       -1.167e+06   5.17e+05     -2.257      0.025   -2.19e+06   -1.49e+05\n",
       "FG%         2.527e+06   1.32e+06      1.910      0.057   -7.81e+04    5.13e+06\n",
       "3P%        -2.511e+05   4.14e+05     -0.606      0.545   -1.07e+06    5.64e+05\n",
       "2P%        -6.579e+05   7.24e+05     -0.909      0.364   -2.08e+06    7.67e+05\n",
       "eFG%       -9.254e+05   1.79e+06     -0.516      0.606   -4.45e+06     2.6e+06\n",
       "FT%        -2.102e+05   4.93e+05     -0.426      0.670   -1.18e+06    7.61e+05\n",
       "Start%      2.977e+06   9.84e+05      3.024      0.003    1.04e+06    4.91e+06\n",
       "ppg         7.275e+05   6.11e+05      1.190      0.235   -4.76e+05    1.93e+06\n",
       "spg        -3.576e+05   5.23e+05     -0.683      0.495   -1.39e+06    6.73e+05\n",
       "apg        -2.494e+05    5.7e+05     -0.438      0.662   -1.37e+06    8.72e+05\n",
       "rpg         3.529e+05   4.92e+05      0.717      0.474   -6.15e+05    1.32e+06\n",
       "bpg        -2.589e+05   4.45e+05     -0.582      0.561   -1.13e+06    6.16e+05\n",
       "fpg          3.39e+05   5.97e+05      0.568      0.570   -8.35e+05    1.51e+06\n",
       "tpg         2.239e+05    6.4e+05      0.350      0.727   -1.04e+06    1.48e+06\n",
       "mpg         3.945e+06   6.52e+05      6.051      0.000    2.66e+06    5.23e+06\n",
       "PG           4.86e+06   1.07e+06      4.535      0.000    2.75e+06    6.97e+06\n",
       "SG          4.305e+06   1.16e+06      3.715      0.000    2.02e+06    6.59e+06\n",
       "SF          6.358e+06   1.17e+06      5.455      0.000    4.06e+06    8.65e+06\n",
       "PF          4.596e+06   9.85e+05      4.664      0.000    2.66e+06    6.54e+06\n",
       "==============================================================================\n",
       "Omnibus:                        3.660   Durbin-Watson:                   1.866\n",
       "Prob(Omnibus):                  0.160   Jarque-Bera (JB):                3.566\n",
       "Skew:                           0.172   Prob(JB):                        0.168\n",
       "Kurtosis:                       3.405   Cond. No.                         17.7\n",
       "==============================================================================\n",
       "\n",
       "Warnings:\n",
       "[1] Standard Errors assume that the covariance matrix of the errors is correctly specified.\n",
       "\"\"\""
      ]
     },
     "execution_count": 646,
     "metadata": {},
     "output_type": "execute_result"
    }
   ],
   "source": [
    "mod = sm.OLS(y_tr,X_tr).fit()\n",
    "mod.summary()"
   ]
  },
  {
   "cell_type": "markdown",
   "metadata": {},
   "source": [
    "# Next steps - add player info like height, weight, college"
   ]
  }
 ],
 "metadata": {
  "kernelspec": {
   "display_name": "Python 3",
   "language": "python",
   "name": "python3"
  },
  "language_info": {
   "codemirror_mode": {
    "name": "ipython",
    "version": 3
   },
   "file_extension": ".py",
   "mimetype": "text/x-python",
   "name": "python",
   "nbconvert_exporter": "python",
   "pygments_lexer": "ipython3",
   "version": "3.7.4"
  }
 },
 "nbformat": 4,
 "nbformat_minor": 2
}
